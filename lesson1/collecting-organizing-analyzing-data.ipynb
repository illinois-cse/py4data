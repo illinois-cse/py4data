{
  "cells": [
    {
      "cell_type": "markdown",
      "metadata": {},
      "source": [
        "<img src=\"https://upload.wikimedia.org/wikipedia/commons/thumb/b/ba/May2008gasolineCA.jpg/379px-May2008gasolineCA.jpg\" width=\"200px;\" alt=\"gas prices\"/>"
      ]
    },
    {
      "cell_type": "markdown",
      "metadata": {},
      "source": [
        "#   `lesson01`:  Collecting, organizing, and analyzing data\n",
        "\n",
        "## Objectives\n",
        "\n",
        "### Objectives\n",
        "\n",
        "1. Identify the pieces of a Pandas dataframe for a set of data.\n",
        "2. Interpret data through plotting. \n",
        "3. Apply data filtering techniques to prepare the data for analysis.\n",
        "4. Organize multiple data sets for analysis.\n",
        "5. Construct a comparison between two sets of data.\n",
        "\n",
        "### Example Questions\n",
        "\n",
        "1. What are the column types in your dataframe?\n",
        "2. How do you plot a column of data?\n",
        "3. Which data needs to be modified in your dataframe?\n",
        "4. How do you plot two time series?\n",
        "5. How would you correlate two series of data?\n",
        "\n",
        "## Highlevel topics\n",
        "\n",
        "- Data importing and storage\n",
        "- Data cleaning\n",
        "- Data plotting\n",
        "- Plot manipulation\n",
        "- Data analysis using built-in tools\n",
        "\n",
        "## Synopsis\n",
        "\n",
        "You are a data scientist working for a DC think tank, and your team is studying technology and energy policy.  To prepare for an upcoming energy sumit you are studying the relationship between **US fuel prices** and **fuel efficiency**, measured in miles-per-gallon.\n",
        "\n",
        "#### Your Task\n",
        "\n",
        "Your goal is to identify trends in two different datasets on **US fuel prices** and **fuel efficiency**.\n",
        "\n",
        "## Datasets\n",
        "\n",
        "In this session two datasets will be used:\n",
        "- Automotive Trends Report\n",
        "    - This dataset provides **miles per gallon** on light-duty vehicles\n",
        "    - https://www.epa.gov/automotive-trends/explore-automotive-trends-data\n",
        "    - https://www.epa.gov/automotive-trends/about-automotive-trends-data\n",
        "- Retail motor gasoline and on-highway diesel fuel prices\n",
        "    - This dataset provides **fuel prices**\n",
        "    - https://www.eia.gov/totalenergy/data/browser/index.php?tbl=T09.04#/\n",
        "    - (section 9.4) https://www.eia.gov/totalenergy/data/monthly/index.php\n",
        "\n",
        "Both of these datasets are already downloaded for you as `table_export.csv` (for MPG data) and `MER_T09_04.csv` (for fuel price data).  However, they could easily be downloaded from the above sites.  For example, the following shell command would download the second dataset:\n",
        "```\n",
        "wget https://www.eia.gov/totalenergy/data/browser/csv.php\\?tbl\\=T09.04 -O MER_T09_04.csv\n",
        "```\n",
        "\n",
        "## Getting Started\n"
      ]
    },
    {
      "cell_type": "markdown",
      "metadata": {},
      "source": [
        "### Setting up Python\n",
        "\n",
        "First, import a few Python packages that we'll use throught the course.  By convention these are abbreviated on import.\n",
        "\n",
        "- `matplotlib` and the interface `matplotlib.pyplot` for plotting\n",
        "- `numpy` for numerical functions and arrays\n",
        "- `pandas` for data structures and analysis\n",
        "- `seaborn` for additional plotting and improved figures"
      ]
    },
    {
      "cell_type": "code",
      "execution_count": 2,
      "metadata": {},
      "outputs": [],
      "source": [
        "import matplotlib.pyplot as plt\n",
        "import pandas as pd\n",
        "import numpy as np\n",
        "import seaborn as sns\n",
        "\n",
        "%matplotlib inline"
      ]
    },
    {
      "cell_type": "markdown",
      "metadata": {},
      "source": [
        "### Import data\n",
        "\n",
        "Here we will import the data with Pandas `read_csv` function and store as a *dataframe*.  \n",
        "\n",
        "What is a *dataframe*?  It's a storage container (provided by Pandas) that functions like a table.  It can also be viewed as a dictionary.  Pandas dataframes have lots of useful functions, many of which we won't use in this lesson (see [Pandas dataframe documenation](http://pandas.pydata.org/pandas-docs/stable/reference/frame.html) for more details)."
      ]
    },
    {
      "cell_type": "code",
      "execution_count": 3,
      "metadata": {},
      "outputs": [],
      "source": [
        "ecodf = pd.read_csv('table_export.csv')"
      ]
    },
    {
      "cell_type": "markdown",
      "metadata": {},
      "source": [
        "### Example dataframe\n",
        "\n",
        "Let's construct a mock dataframe to highlight some basic functionality."
      ]
    },
    {
      "cell_type": "code",
      "execution_count": 4,
      "metadata": {},
      "outputs": [],
      "source": [
        "mydf = pd.DataFrame(\n",
        "    {'month': ['January', 'February', 'March'],\n",
        "     'temperature': [20, 30, 40],\n",
        "     'snowfall': [12.5, 15, 'trace']\n",
        "    }\n",
        ")"
      ]
    },
    {
      "cell_type": "markdown",
      "metadata": {},
      "source": [
        "We can inspect the dataframe in a few different ways:\n",
        "\n",
        "- `mydf.info()` shows a highlevel view of the dataframe as a data structure\n",
        "- `mydf` or `print(mydf)` will give a tabular view"
      ]
    },
    {
      "cell_type": "code",
      "execution_count": 5,
      "metadata": {},
      "outputs": [],
      "source": [
        "mydf"
      ]
    },
    {
      "cell_type": "code",
      "execution_count": 6,
      "metadata": {},
      "outputs": [],
      "source": [
        "pd.to_datetime('2017', format='%Y')"
      ]
    },
    {
      "cell_type": "code",
      "execution_count": 7,
      "metadata": {},
      "outputs": [],
      "source": [
        "mydf.info()"
      ]
    },
    {
      "cell_type": "code",
      "execution_count": 8,
      "metadata": {},
      "outputs": [],
      "source": [
        "mydf"
      ]
    },
    {
      "cell_type": "markdown",
      "metadata": {},
      "source": [
        "We can access a given column of a dataframe using the bracket notation with the column label."
      ]
    },
    {
      "cell_type": "code",
      "execution_count": 9,
      "metadata": {},
      "outputs": [],
      "source": [
        "mydf['temperature']"
      ]
    },
    {
      "cell_type": "markdown",
      "metadata": {},
      "source": [
        "Also notice that each column is a Pandas *series*.  A series is simply array of values with an index to those values."
      ]
    },
    {
      "cell_type": "code",
      "execution_count": 10,
      "metadata": {},
      "outputs": [],
      "source": [
        "type(mydf['temperature'])"
      ]
    },
    {
      "cell_type": "markdown",
      "metadata": {},
      "source": [
        "#### Pandas methods\n",
        "\n",
        "In the following we'll be doing mainly three things to data stored like `mydf`:\n",
        "\n",
        "1. formatting the data\n",
        "2. setting an index\n",
        "3. cleaning the data\n",
        "\n",
        "We'll work with the example dataframe for now.  Later, we'll work with the datasets described above and we'll also merge data and introduce some analytics."
      ]
    },
    {
      "cell_type": "code",
      "execution_count": 11,
      "metadata": {},
      "outputs": [],
      "source": [
        "mydf.info()"
      ]
    },
    {
      "cell_type": "markdown",
      "metadata": {},
      "source": [
        "#### (1)\n",
        "Let's *format* the data so that the `month` is an actual datetime format.  We can do this using [`pd.to_datetime()`](https://pandas.pydata.org/pandas-docs/stable/reference/api/pandas.to_datetime.html).\n",
        "For this we need to refer to the string format of dates in Python's `time` format:\n",
        "https://docs.python.org/3/library/time.html#time.strftime\n",
        "\n",
        "Notice that `%B` means the month name."
      ]
    },
    {
      "cell_type": "code",
      "execution_count": 12,
      "metadata": {},
      "outputs": [],
      "source": [
        "pd.to_datetime('2019 January', format='%Y %B')"
      ]
    },
    {
      "cell_type": "code",
      "execution_count": 13,
      "metadata": {},
      "outputs": [],
      "source": [
        "pd.to_datetime(mydf['month'], format='%B')"
      ]
    },
    {
      "cell_type": "markdown",
      "metadata": {},
      "source": [
        "Notice, the above command doesn't  actually change the column of our dataframe `mydf`."
      ]
    },
    {
      "cell_type": "code",
      "execution_count": 14,
      "metadata": {},
      "outputs": [],
      "source": [
        "mydf['month']"
      ]
    },
    {
      "cell_type": "markdown",
      "metadata": {},
      "source": [
        "To add a year, we would use `%Y`.  To change our dataframe, we set the column equal to the new series."
      ]
    },
    {
      "cell_type": "code",
      "execution_count": 15,
      "metadata": {},
      "outputs": [],
      "source": [
        "mydf['month'] = pd.to_datetime(mydf['month']+'2019', format='%B%Y')"
      ]
    },
    {
      "cell_type": "code",
      "execution_count": 16,
      "metadata": {},
      "outputs": [],
      "source": [
        "mydf"
      ]
    },
    {
      "cell_type": "code",
      "execution_count": 17,
      "metadata": {},
      "outputs": [],
      "source": [
        "mydf.info()"
      ]
    },
    {
      "cell_type": "markdown",
      "metadata": {},
      "source": [
        "#### (2)\n",
        "\n",
        "Each column of a Pandas dataframe is a series and the default is to index this series with integer indices starting at 0.  We can see what the current index values are by accessing the dataframe's `index` attribute (not a function).  We can also set the index to another set of labels, say the months using the dataframe's `set_index()` function."
      ]
    },
    {
      "cell_type": "code",
      "execution_count": 18,
      "metadata": {},
      "outputs": [],
      "source": [
        "mydf.index"
      ]
    },
    {
      "cell_type": "code",
      "execution_count": 19,
      "metadata": {},
      "outputs": [],
      "source": [
        "mydf.set_index('month', inplace=True)"
      ]
    },
    {
      "cell_type": "markdown",
      "metadata": {},
      "source": [
        "Notice we used `inplace=True` above so it modified `mydf` instead of making a new object.  We can look at the modified index and dataframe:"
      ]
    },
    {
      "cell_type": "code",
      "execution_count": 20,
      "metadata": {},
      "outputs": [],
      "source": [
        "mydf.index"
      ]
    },
    {
      "cell_type": "code",
      "execution_count": 21,
      "metadata": {},
      "outputs": [],
      "source": [
        "mydf"
      ]
    },
    {
      "cell_type": "markdown",
      "metadata": {},
      "source": [
        "#### (3)\n",
        "\n",
        "Notice that the last value of snowfall is \"trace\" (a small amount of snow, but no measurable accumulation).  Unfortunately, this isn't very helpful -- we cannot take the average (or many of the other summary statistics) of a string."
      ]
    },
    {
      "cell_type": "code",
      "execution_count": 22,
      "metadata": {
        "scrolled": false
      },
      "outputs": [],
      "source": [
        "mydf['snowfall'].mean()"
      ]
    },
    {
      "cell_type": "markdown",
      "metadata": {},
      "source": [
        "Since \"trace\" means a small amount, it's fairly reasonable to represent it as 0.  So we're going to construct a function that we can `apply()` to each entry.  Let's check to see if the entry is \"trace\" and if so, set it to 0.0."
      ]
    },
    {
      "cell_type": "code",
      "execution_count": 23,
      "metadata": {},
      "outputs": [],
      "source": [
        "def f(x):\n",
        "    if x == 'trace':\n",
        "        return 0.0\n",
        "    else:\n",
        "        return x\n",
        "\n",
        "mydf['snowfall'] = mydf['snowfall'].apply(f)\n",
        "mydf"
      ]
    },
    {
      "cell_type": "markdown",
      "metadata": {},
      "source": [
        "Now that \"trace\" is removed, we can take the average."
      ]
    },
    {
      "cell_type": "code",
      "execution_count": 24,
      "metadata": {},
      "outputs": [],
      "source": [
        "mydf['snowfall'].mean()"
      ]
    },
    {
      "cell_type": "markdown",
      "metadata": {},
      "source": [
        "## The fuel economy dataset\n",
        "\n",
        "Using the practice from the `mydf` example, let's take a look at the `ecodf` dataframe we obtained above from importing the fuel economy dataset."
      ]
    },
    {
      "cell_type": "code",
      "execution_count": 25,
      "metadata": {},
      "outputs": [],
      "source": [
        "ecodf.info()"
      ]
    },
    {
      "cell_type": "code",
      "execution_count": 26,
      "metadata": {},
      "outputs": [],
      "source": [
        "ecodf"
      ]
    },
    {
      "cell_type": "markdown",
      "metadata": {},
      "source": [
        "Take a look at the columns --- we'll be considering the 'Adjusted MPG' for our analysis."
      ]
    },
    {
      "cell_type": "code",
      "execution_count": 27,
      "metadata": {},
      "outputs": [],
      "source": [
        "ecodf.columns"
      ]
    },
    {
      "cell_type": "markdown",
      "metadata": {},
      "source": [
        "### Plot the MPG\n",
        "\n",
        "Let's try to plot the values of `Adjusted MPG` using the `plot()` method for series."
      ]
    },
    {
      "cell_type": "code",
      "execution_count": 28,
      "metadata": {},
      "outputs": [],
      "source": [
        "ecodf['Adjusted MPG'].plot()"
      ]
    },
    {
      "cell_type": "markdown",
      "metadata": {},
      "source": [
        "#### How can we improve this?\n",
        "\n",
        "1. It looks like we're indexing this by integers (the x-axis).  A more helpful view would be years (or dates).\n",
        "2. From the dataset above, all vehicle types are being plotted (so there are multiple values corresponding to each year).  Try plotting only for the vehicle type `Car SUV`, for example.\n",
        "3. The plot needs **labels** (axes, legend) and improved formatting (look, size, font)."
      ]
    },
    {
      "cell_type": "markdown",
      "metadata": {},
      "source": [
        "#### (1) formatting the dates\n",
        "\n",
        "Let's format the `Model Year` column and set it as our index."
      ]
    },
    {
      "cell_type": "code",
      "execution_count": 29,
      "metadata": {},
      "outputs": [],
      "source": [
        "pd.to_datetime(ecodf['Model Year'], format='%Y')"
      ]
    },
    {
      "cell_type": "markdown",
      "metadata": {},
      "source": [
        "Since the most recent data is marked as preliminary, it's a string that isn't being recognized as a year.\n",
        "We'll have to work around that manually."
      ]
    },
    {
      "cell_type": "code",
      "execution_count": 30,
      "metadata": {},
      "outputs": [],
      "source": [
        "'Prelim. 2017'.split()[-1]"
      ]
    },
    {
      "cell_type": "code",
      "execution_count": 31,
      "metadata": {},
      "outputs": [],
      "source": [
        "def f(t):\n",
        "    if 'Prelim.' in t:\n",
        "        t = t.split(' ')[-1]\n",
        "    timestamp = pd.datetime.strptime(t, '%Y')\n",
        "    return timestamp\n",
        "\n",
        "ecodf['Model Year'] = ecodf['Model Year'].apply(f)"
      ]
    },
    {
      "cell_type": "code",
      "execution_count": 32,
      "metadata": {},
      "outputs": [],
      "source": [
        "ecodf.set_index('Model Year', inplace=True)\n",
        "ecodf"
      ]
    },
    {
      "cell_type": "code",
      "execution_count": 33,
      "metadata": {},
      "outputs": [],
      "source": [
        "ecodf['Adjusted MPG'].plot()"
      ]
    },
    {
      "cell_type": "markdown",
      "metadata": {},
      "source": [
        "#### (2)\n",
        "\n",
        "We still have multiple vehicle types being plotted for each year (the large oscillating pattern).\n",
        "Now check to see where the `Vehicle Type` is equal to `Car SUV` and only plot that data."
      ]
    },
    {
      "cell_type": "code",
      "execution_count": 34,
      "metadata": {},
      "outputs": [],
      "source": [
        "ecodf[\n",
        "ecodf['Vehicle Type']=='Car SUV'\n",
        "]['Adjusted MPG'].plot()"
      ]
    },
    {
      "cell_type": "markdown",
      "metadata": {},
      "source": [
        "#### (3)\n",
        "\n",
        "Note that changing the index automatically applied the index column label as the x-axis label.\n",
        "\n",
        "But, there's still a lot we can do to improve the plot with more labels and other\n",
        "visual formatting changes.\n",
        "\n",
        "First, we'll adjust the image size, add axis labels/legend, and make the line thicker.\n"
      ]
    },
    {
      "cell_type": "code",
      "execution_count": 35,
      "metadata": {},
      "outputs": [],
      "source": [
        "fig = plt.figure(figsize=(10,10))\n",
        "ax = fig.gca()\n",
        "\n",
        "ecodf[\n",
        "    ecodf['Vehicle Type']=='Car SUV'\n",
        "]['Adjusted MPG'].plot(ax=ax, linewidth=4)\n",
        "\n",
        "ax.legend()\n",
        "plt.ylabel('Miles Per Gallon')"
      ]
    },
    {
      "cell_type": "markdown",
      "metadata": {},
      "source": [
        "We can also change the fontsize and the general look."
      ]
    },
    {
      "cell_type": "code",
      "execution_count": 36,
      "metadata": {},
      "outputs": [],
      "source": [
        "sns.set(font_scale=2)\n",
        "\n",
        "fig = plt.figure(figsize=(10,10))\n",
        "ax = fig.gca()\n",
        "\n",
        "ecodf[\n",
        "    ecodf['Vehicle Type']=='Car SUV'\n",
        "]['Adjusted MPG'].plot(ax=ax, linewidth=4)\n",
        "\n",
        "ax.legend()\n",
        "plt.ylabel('Miles per Gallon')\n",
        "plt.xlabel('Year')"
      ]
    },
    {
      "cell_type": "markdown",
      "metadata": {},
      "source": [
        "The data has a lot of small variation that can make it\n",
        "harder to see the overall trend.  Let's plot smoothed\n",
        "data from a rolling average \n",
        "by combining the Pandas series functions `.rolling()` and `.mean()`."
      ]
    },
    {
      "cell_type": "code",
      "execution_count": 37,
      "metadata": {},
      "outputs": [],
      "source": [
        "sns.set(font_scale=2)\n",
        "\n",
        "fig = plt.figure(figsize=(10,10))\n",
        "ax = fig.gca()\n",
        "\n",
        "ecodf[\n",
        "    ecodf['Vehicle Type']=='Car SUV'\n",
        "]['Adjusted MPG'].rolling(10).mean().plot(ax=ax, linewidth=4)\n",
        "\n",
        "ax.legend()\n",
        "plt.ylabel('Miles per Gallon')\n",
        "plt.xlabel('Year')"
      ]
    },
    {
      "cell_type": "markdown",
      "metadata": {},
      "source": [
        "## Your turn, the fuel prices dataset\n",
        "\n",
        "The goal of this portion of the notebook is to construct a correlation between **fuel prices** and **fuel efficiency**.  We've already imported and formatted the fuel efficiency dataset, but you'll be starting from the original .csv for the fuel prices dataset.\n",
        "\n",
        "To do this consider the following challenge questions:\n",
        "\n",
        "1. How do you format the fuel price data with a `datetime` index?  It may be helpful to distinguish between monthly values and yearly averages (the yearly averages end in \"13\" for this dataset).\n",
        "\n",
        "2. How should you handle missing data in the `Value` column?\n",
        "\n",
        "3. Do you see a trend in regular unleaded gas prices? (`MSN` column is `RUUCUUS` for regular unleaded gas)\n",
        "\n",
        "4. Find a correlation between the **fuel price** and **fuel efficiency**.  To do this you may want to combine the relevant values from the different dataframes using `pd.merge_asof()` and then use the function `.corr()` on the combined dataframe.\n",
        "\n",
        "5. Try to plot the **fuel price** and **fuel efficiency** on the same plot, but with different y-axis scales -- do you observe a correlation?\n",
        "\n",
        "6. Plot **fuel price** and **fuel efficiency** using a rolling average, for example `rolling(5).mean()` on a Pandas series to display a 5 year rolling average.  See above for an example of rolling average.  Plot the rolling averages like you plotted the values in the previous question.\n",
        "\n",
        "5. Use seaborn's `jointplot()` to plot MPG vs Price to deduce a correlation."
      ]
    },
    {
      "cell_type": "markdown",
      "metadata": {},
      "source": [
        "### Getting started\n",
        "\n",
        "First import the data"
      ]
    },
    {
      "cell_type": "code",
      "execution_count": 38,
      "metadata": {},
      "outputs": [],
      "source": [
        "pricedf = pd.read_csv('MER_T09_04.csv')"
      ]
    },
    {
      "cell_type": "markdown",
      "metadata": {},
      "source": [
        "Next, do two things:\n",
        "\n",
        "1. Make a column called `Data Type` and mark it as `AVG` if the year string contains a `13`.\n",
        "2. For each row that's an `AVG`, format the year string in one way."
      ]
    },
    {
      "cell_type": "code",
      "execution_count": 43,
      "metadata": {},
      "outputs": [],
      "source": [
        "def f(x):\n",
        "    x = str(x)\n",
        "    if x[-2:] == '13':\n",
        "        return 'AVG'\n",
        "    else:\n",
        "        return ''\n",
        "pricedf['Data Type'] = pricedf['YYYYMM'].apply(f)\n",
        "\n",
        "def f(x):\n",
        "    y = str(x['YYYYMM'])\n",
        "    if x['Data Type'] == 'AVG':\n",
        "        return pd.to_datetime(y[:4], format='%Y')\n",
        "    else:\n",
        "        return pd.to_datetime(y, format='%Y%m')\n",
        "\n",
        "pricedf['Date'] = pricedf.apply(f, axis=1)"
      ]
    },
    {
      "cell_type": "markdown",
      "metadata": {},
      "source": [
        "Now check to see what all of the `AVG` `Value` numbers look like."
      ]
    },
    {
      "cell_type": "code",
      "execution_count": 45,
      "metadata": {},
      "outputs": [],
      "source": [
        "pricedf[\n",
        "    pricedf['Data Type'] == 'AVG'\n",
        "]['Value']"
      ]
    },
    {
      "cell_type": "markdown",
      "metadata": {},
      "source": [
        "For the next step you'll want to \n",
        "\n",
        "1. try to convert a number to a float\n",
        "2. if the convertion doesn't work, then use not-a-number (np.nan)"
      ]
    },
    {
      "cell_type": "code",
      "execution_count": 49,
      "metadata": {},
      "outputs": [],
      "source": [
        "try:\n",
        "    y = float('1.23')\n",
        "except:\n",
        "    print('this should not print')\n",
        "print(f'y={y}')\n",
        "\n",
        "try:\n",
        "    y = float('trace')\n",
        "except:\n",
        "    y = np.nan\n",
        "    print('converted to nan')\n",
        "    \n",
        "print(f'y={y}')"
      ]
    },
    {
      "cell_type": "code",
      "execution_count": null,
      "metadata": {},
      "outputs": [],
      "source": []
    },
    {
      "cell_type": "code",
      "execution_count": null,
      "metadata": {},
      "outputs": [],
      "source": []
    },
    {
      "cell_type": "code",
      "execution_count": null,
      "metadata": {},
      "outputs": [],
      "source": []
    },
    {
      "cell_type": "code",
      "execution_count": null,
      "metadata": {},
      "outputs": [],
      "source": []
    },
    {
      "cell_type": "code",
      "execution_count": null,
      "metadata": {},
      "outputs": [],
      "source": []
    },
    {
      "cell_type": "code",
      "execution_count": null,
      "metadata": {},
      "outputs": [],
      "source": []
    },
    {
      "cell_type": "code",
      "execution_count": null,
      "metadata": {},
      "outputs": [],
      "source": []
    },
    {
      "cell_type": "code",
      "execution_count": null,
      "metadata": {},
      "outputs": [],
      "source": []
    },
    {
      "cell_type": "code",
      "execution_count": null,
      "metadata": {},
      "outputs": [],
      "source": []
    },
    {
      "cell_type": "code",
      "execution_count": null,
      "metadata": {},
      "outputs": [],
      "source": []
    },
    {
      "cell_type": "code",
      "execution_count": null,
      "metadata": {},
      "outputs": [],
      "source": []
    },
    {
      "cell_type": "code",
      "execution_count": null,
      "metadata": {},
      "outputs": [],
      "source": []
    },
    {
      "cell_type": "code",
      "execution_count": null,
      "metadata": {},
      "outputs": [],
      "source": []
    }
  ],
  "metadata": {
    "kernelspec": {
      "display_name": "Python 3",
      "language": "python",
      "name": "python3"
    },
    "language_info": {
      "codemirror_mode": {
        "name": "ipython",
        "version": 3
      },
      "file_extension": ".py",
      "mimetype": "text/x-python",
      "name": "python",
      "nbconvert_exporter": "python",
      "pygments_lexer": "ipython3",
      "version": "3.7.2"
    }
  },
  "nbformat": 4,
  "nbformat_minor": 2
}