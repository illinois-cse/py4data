{
 "cells": [
  {
   "cell_type": "markdown",
   "metadata": {},
   "source": [
    "# Numpy Demo\n",
    "We'll go through some examples here to refresh the basics of numpy.  There are also plenty of other guides online:\n",
    "* [Numpy quickstart tutorial](https://docs.scipy.org/doc/numpy-dev/user/quickstart.html)\n",
    "* [Numpy for MATLAB users](https://docs.scipy.org/doc/numpy-dev/user/numpy-for-matlab-users.html) -- great reference if you are used to working with MATLAB\n",
    "\n",
    "First, to use a package we need to import it."
   ]
  },
  {
   "cell_type": "code",
   "execution_count": 4,
   "metadata": {},
   "outputs": [],
   "source": [
    "import numpy as np"
   ]
  },
  {
   "cell_type": "markdown",
   "metadata": {},
   "source": [
    "# Motivation\n",
    "\n",
    "Question:  Why bother with numpy?\n",
    "\n",
    "Answer:  Numpy arrays are faster and more efficient than lists when working with numerical data."
   ]
  },
  {
   "cell_type": "markdown",
   "metadata": {},
   "source": [
    "## Example:  Pure Python vs Numpy\n",
    "Let's compare the running time for a basic operation in\n",
    "pure python and numpy.  The following code blocks\n",
    "create two random matrices $A$ and $B$, then compute\n",
    "$C = AB$.\n",
    "\n",
    "### Pure Python\n",
    "The first code block is with pure python using lists (no numpy)."
   ]
  },
  {
   "cell_type": "code",
   "execution_count": 5,
   "metadata": {},
   "outputs": [
    {
     "name": "stdout",
     "output_type": "stream",
     "text": [
      "0.3747551441192627\n"
     ]
    }
   ],
   "source": [
    "import random\n",
    "import time\n",
    "\n",
    "def create_rand_matrix(n):\n",
    "    # Create random matrix without numpy\n",
    "    M = []\n",
    "    for i in range(n):\n",
    "        row = []\n",
    "        for j in range(n):\n",
    "            row.append(random.random())\n",
    "        M.append(row)\n",
    "    return M\n",
    "    \n",
    "start = time.time()\n",
    "\n",
    "n = 100\n",
    "\n",
    "A = create_rand_matrix(n)\n",
    "B = create_rand_matrix(n)\n",
    "    \n",
    "# Compute C = AB\n",
    "C = []\n",
    "for i in range(n):\n",
    "    row = []\n",
    "    for j in range(n):\n",
    "        sum = 0\n",
    "        for k in range(n):\n",
    "            sum += A[i][k] * B[k][j]\n",
    "        row.append(sum)\n",
    "    C.append(row)\n",
    "    \n",
    "stop = time.time()\n",
    "print(stop - start)"
   ]
  },
  {
   "cell_type": "markdown",
   "metadata": {},
   "source": [
    "### Numpy\n",
    "The same thing using numpy arrays."
   ]
  },
  {
   "cell_type": "code",
   "execution_count": 6,
   "metadata": {},
   "outputs": [
    {
     "name": "stdout",
     "output_type": "stream",
     "text": [
      "0.004807233810424805\n"
     ]
    }
   ],
   "source": [
    "start = time.time()\n",
    "\n",
    "n = 100\n",
    "\n",
    "A = np.random.random((n, n))\n",
    "B = np.random.random((n, n))\n",
    "C = A @ B\n",
    "\n",
    "stop = time.time()\n",
    "print(stop - start)"
   ]
  },
  {
   "cell_type": "markdown",
   "metadata": {},
   "source": [
    "# Creating Arrays\n",
    "Numerous ways of creating arrays are available."
   ]
  },
  {
   "cell_type": "markdown",
   "metadata": {},
   "source": [
    "## Creating arrays from a list"
   ]
  },
  {
   "cell_type": "code",
   "execution_count": 7,
   "metadata": {},
   "outputs": [
    {
     "name": "stdout",
     "output_type": "stream",
     "text": [
      "vals_list:  [1, 3, 2, 8]\n",
      "vals_array:  [1 3 2 8]\n"
     ]
    }
   ],
   "source": [
    "vals_list = [1, 3, 2, 8]\n",
    "vals_array = np.array(vals_list)\n",
    "\n",
    "print(\"vals_list: \", vals_list)\n",
    "print(\"vals_array: \", vals_array)"
   ]
  },
  {
   "cell_type": "markdown",
   "metadata": {},
   "source": [
    "## Creating arrays using built-in functions\n",
    "* [np.arange()](http://docs.scipy.org/doc/numpy-1.10.1/reference/generated/numpy.arange.html)\n",
    "* [np.linspace()](http://docs.scipy.org/doc/numpy-1.10.0/reference/generated/numpy.linspace.html)\n",
    "* How do we know how to call them?\n",
    "    * See documentation\n",
    "    * ipython help"
   ]
  },
  {
   "cell_type": "markdown",
   "metadata": {},
   "source": [
    "### np.arange()\n",
    "Evenly spaced numbers in a interval (meant for use with an integer step size).  Examples:"
   ]
  },
  {
   "cell_type": "code",
   "execution_count": 8,
   "metadata": {},
   "outputs": [
    {
     "name": "stdout",
     "output_type": "stream",
     "text": [
      "[0 1 2 3 4 5 6 7 8 9]\n",
      "[ 4  5  6  7  8  9 10 11]\n",
      "[ 4  6  8 10]\n"
     ]
    }
   ],
   "source": [
    "print(np.arange(10)) # stop\n",
    "print(np.arange(4,12)) # start and stop\n",
    "print(np.arange(4,12,2)) # start, stop, and step"
   ]
  },
  {
   "cell_type": "markdown",
   "metadata": {},
   "source": [
    "### np.linspace()\n",
    "Evenly spaced numbers in an interval.  Examples:"
   ]
  },
  {
   "cell_type": "code",
   "execution_count": 9,
   "metadata": {},
   "outputs": [
    {
     "name": "stdout",
     "output_type": "stream",
     "text": [
      "[0.  0.1 0.2 0.3 0.4 0.5 0.6 0.7 0.8 0.9 1. ]\n",
      "[ 0.  1.  2.  3.  4.  5.  6.  7.  8.  9. 10.]\n"
     ]
    }
   ],
   "source": [
    "print(np.linspace(0,1,11))\n",
    "print(np.linspace(0,10,11))"
   ]
  },
  {
   "cell_type": "markdown",
   "metadata": {},
   "source": [
    "### Other special vectors\n",
    "Often need to initialize to zeros or vector of all 1s"
   ]
  },
  {
   "cell_type": "code",
   "execution_count": 10,
   "metadata": {},
   "outputs": [
    {
     "name": "stdout",
     "output_type": "stream",
     "text": [
      "[0. 0. 0. 0. 0.]\n",
      "[1. 1. 1. 1.]\n"
     ]
    }
   ],
   "source": [
    "print(np.zeros(5))\n",
    "print(np.ones(4))"
   ]
  },
  {
   "cell_type": "markdown",
   "metadata": {},
   "source": [
    "# Data Types\n",
    "Recall, Python is dynamically typed.  Types are changed automatically as needed.  And, lists can hold anything.  A single list could hold strings and integers.\n",
    "\n",
    "What about arrays?\n",
    "Numpy arrays are statically typed.\n",
    "\n",
    "So, what are the data types of the arrays we created above?  What are the available datatypes?  How do we specify what datatype we want? "
   ]
  },
  {
   "cell_type": "code",
   "execution_count": 11,
   "metadata": {},
   "outputs": [
    {
     "name": "stdout",
     "output_type": "stream",
     "text": [
      "vals_array:  [1 3 2 8]\n",
      "vals_arrayf:  [1. 3. 2. 8.]\n",
      "<class 'list'>\n",
      "<class 'numpy.ndarray'>\n",
      "<class 'numpy.ndarray'>\n",
      "int64\n",
      "float64\n"
     ]
    }
   ],
   "source": [
    "vals_list = [1,3,2,8]\n",
    "vals_array = np.array(vals_list)\n",
    "vals_arrayf = np.array(vals_list, dtype=float)\n",
    "\n",
    "print(\"vals_array: \", vals_array)\n",
    "print(\"vals_arrayf: \", vals_arrayf)\n",
    "\n",
    "print(type(vals_list))\n",
    "print(type(vals_array))\n",
    "print(type(vals_arrayf))\n",
    "print(vals_array.dtype)\n",
    "print(vals_arrayf.dtype)"
   ]
  },
  {
   "cell_type": "markdown",
   "metadata": {},
   "source": [
    "The `dtype` argument is valid for most array-creation functions, including\n",
    "`numpy.zeros`, `np.ones`, and `np.arange`."
   ]
  },
  {
   "cell_type": "markdown",
   "metadata": {},
   "source": [
    "In Python3, the `dtype` of an array that results from mathematical operations will\n",
    "automatically adjust to whatever is sensible."
   ]
  },
  {
   "cell_type": "code",
   "execution_count": 12,
   "metadata": {},
   "outputs": [
    {
     "name": "stdout",
     "output_type": "stream",
     "text": [
      "integers:  [1 3 2 8]\n",
      "more integers:  [ 3  9  6 24]\n",
      "floats:  [0.33333333 1.         0.66666667 2.66666667]\n"
     ]
    }
   ],
   "source": [
    "print('integers: ', vals_array)\n",
    "print('more integers: ', vals_array * 3)\n",
    "print('floats: ', vals_array / 3)"
   ]
  },
  {
   "cell_type": "markdown",
   "metadata": {},
   "source": [
    "You can also copy an array and change the `dtype`."
   ]
  },
  {
   "cell_type": "code",
   "execution_count": 13,
   "metadata": {},
   "outputs": [
    {
     "name": "stdout",
     "output_type": "stream",
     "text": [
      "arr:  [0. 1. 2. 3. 4. 5. 6. 7. 8. 9.]\n",
      "x:  [0 1 2 3 4 5 6 7 8 9]\n"
     ]
    }
   ],
   "source": [
    "arr = np.arange(10.0)\n",
    "x = arr.astype(int)\n",
    "print('arr: ', arr)\n",
    "print('x: ', x)"
   ]
  },
  {
   "cell_type": "markdown",
   "metadata": {},
   "source": [
    "# Accessing Array Elements\n",
    "Now that we actually have arrays, how do we get things from them?\n",
    "Indexed from 0, bracket notation for accessing"
   ]
  },
  {
   "cell_type": "code",
   "execution_count": 14,
   "metadata": {},
   "outputs": [
    {
     "name": "stdout",
     "output_type": "stream",
     "text": [
      "[1. 3. 2. 8.]\n",
      "1.0\n"
     ]
    }
   ],
   "source": [
    "print(vals_arrayf)\n",
    "print(vals_arrayf[0])"
   ]
  },
  {
   "cell_type": "markdown",
   "metadata": {},
   "source": [
    "Negative indexing is also allowed."
   ]
  },
  {
   "cell_type": "code",
   "execution_count": 15,
   "metadata": {},
   "outputs": [
    {
     "name": "stdout",
     "output_type": "stream",
     "text": [
      "8.0\n"
     ]
    }
   ],
   "source": [
    "print(vals_arrayf[-1])"
   ]
  },
  {
   "cell_type": "markdown",
   "metadata": {},
   "source": [
    "What if I want a section of an array?  Array slicing."
   ]
  },
  {
   "cell_type": "code",
   "execution_count": 16,
   "metadata": {},
   "outputs": [
    {
     "name": "stdout",
     "output_type": "stream",
     "text": [
      "[3. 2.]\n",
      "[3.]\n"
     ]
    }
   ],
   "source": [
    "print(vals_arrayf[1:3])\n",
    "print(vals_arrayf[1:2])"
   ]
  },
  {
   "cell_type": "markdown",
   "metadata": {},
   "source": [
    "In addition to a start and end, you can also choose a step for the slice."
   ]
  },
  {
   "cell_type": "code",
   "execution_count": 17,
   "metadata": {},
   "outputs": [
    {
     "name": "stdout",
     "output_type": "stream",
     "text": [
      "[1. 3. 2. 8.]\n",
      "[1. 2.]\n",
      "[3. 8.]\n",
      "[8. 2. 3. 1.]\n"
     ]
    }
   ],
   "source": [
    "print(vals_arrayf)\n",
    "print(vals_arrayf[::2])  # odd indices\n",
    "print(vals_arrayf[1::2])  # even indices\n",
    "print(vals_arrayf[::-1])  # handy way to reverse an array"
   ]
  },
  {
   "cell_type": "markdown",
   "metadata": {},
   "source": [
    "# Copies vs. Views (Accidentally changing your array)"
   ]
  },
  {
   "cell_type": "markdown",
   "metadata": {},
   "source": [
    "You need to be careful with `numpy` arrays if you are\n",
    "* trying to copy part of an array, or\n",
    "* passing an array to a function\n",
    "\n",
    "You might be in for a nasty surprise if you change an element."
   ]
  },
  {
   "cell_type": "code",
   "execution_count": 18,
   "metadata": {},
   "outputs": [
    {
     "name": "stdout",
     "output_type": "stream",
     "text": [
      "[0 1 2 3 4]\n",
      "\n",
      "[0 1]\n",
      "\n",
      "[7 1]\n",
      "\n",
      "[7 1 2 3 4]\n"
     ]
    }
   ],
   "source": [
    "simple = np.arange(5)\n",
    "small = simple[:2]\n",
    "print(simple)\n",
    "print('')\n",
    "print(small)\n",
    "print('')\n",
    "\n",
    "small[0] = 7\n",
    "print(small)\n",
    "print('')\n",
    "print(simple)  # shouldn't have changed, right?"
   ]
  },
  {
   "cell_type": "markdown",
   "metadata": {},
   "source": [
    "This happens because `small` is something called a \"view\" of\n",
    "`simple`, rather than a copy. This helps `numpy` save memory and\n",
    "speed up your program, but it can lead to tricky bugs if it\n",
    "is not your intent. In general, it can be difficult to tell\n",
    "whether something will be a view or a copy.\n",
    "\n",
    "Functions also do not make copies of their input arrays."
   ]
  },
  {
   "cell_type": "code",
   "execution_count": 19,
   "metadata": {},
   "outputs": [
    {
     "name": "stdout",
     "output_type": "stream",
     "text": [
      "[100   1   2   3   4]\n"
     ]
    }
   ],
   "source": [
    "def foo(x):  # notice that x is not returned\n",
    "    x[0] = 100\n",
    "\n",
    "\n",
    "foo(simple)\n",
    "print(simple)"
   ]
  },
  {
   "cell_type": "markdown",
   "metadata": {},
   "source": [
    "If you think you are accidentally changing your array elsewhere in your code,\n",
    "you can copy it to be on the safe side. This will be slow your program down\n",
    "and use more memory, but it can help debugging and save a lot of headaches."
   ]
  },
  {
   "cell_type": "code",
   "execution_count": 20,
   "metadata": {},
   "outputs": [
    {
     "name": "stdout",
     "output_type": "stream",
     "text": [
      "before:\n",
      "[0 1 2 3 4]\n",
      "after:\n",
      "[0 1 2 3 4]\n"
     ]
    }
   ],
   "source": [
    "simple = np.arange(5)\n",
    "print('before:')\n",
    "print(simple)\n",
    "\n",
    "my_copy = simple[:2].copy()\n",
    "my_copy[1] = 10\n",
    "\n",
    "foo(simple.copy())\n",
    "\n",
    "print('after:')\n",
    "print(simple)"
   ]
  },
  {
   "cell_type": "markdown",
   "metadata": {},
   "source": [
    "# Multi-dimensional Arrays"
   ]
  },
  {
   "cell_type": "markdown",
   "metadata": {},
   "source": [
    "*Note:* There is a `numpy.matrix` class, but you should avoid using it.\n",
    "Use two-dimensional arrays instead."
   ]
  },
  {
   "cell_type": "markdown",
   "metadata": {},
   "source": [
    "How do we create multi-dimensional arrays?"
   ]
  },
  {
   "cell_type": "markdown",
   "metadata": {},
   "source": [
    "### Creating from multi-dimensional lists"
   ]
  },
  {
   "cell_type": "code",
   "execution_count": 21,
   "metadata": {},
   "outputs": [
    {
     "name": "stdout",
     "output_type": "stream",
     "text": [
      "[[1. 4. 8.]\n",
      " [3. 2. 9.]\n",
      " [0. 5. 7.]]\n",
      "\n"
     ]
    }
   ],
   "source": [
    "mat = np.array([[1,4,8],[3,2,9],[0,5,7]], float)\n",
    "print(mat)\n",
    "print('')"
   ]
  },
  {
   "cell_type": "markdown",
   "metadata": {},
   "source": [
    "### Creating special matrices\n",
    "Like with 1d arrays, easy to create 2d arrays of 0s, 1s"
   ]
  },
  {
   "cell_type": "code",
   "execution_count": 22,
   "metadata": {
    "scrolled": true
   },
   "outputs": [
    {
     "name": "stdout",
     "output_type": "stream",
     "text": [
      "[[0. 0. 0.]\n",
      " [0. 0. 0.]]\n",
      "\n",
      "[[0. 0. 0.]\n",
      " [0. 0. 0.]\n",
      " [0. 0. 0.]]\n",
      "\n",
      "[[1. 0. 0.]\n",
      " [0. 1. 0.]\n",
      " [0. 0. 1.]]\n"
     ]
    }
   ],
   "source": [
    "print(np.zeros((2,3), dtype=float))\n",
    "print('')\n",
    "print(np.zeros_like(mat))\n",
    "print('')\n",
    "# np.zeros_like creates a matrix same shape, dimension, datatype as existing matrix\n",
    "print(np.identity(3, dtype=float))"
   ]
  },
  {
   "cell_type": "markdown",
   "metadata": {},
   "source": [
    "How do we access multi-dimensional arrays?  First index gives row, second gives column."
   ]
  },
  {
   "cell_type": "code",
   "execution_count": 23,
   "metadata": {},
   "outputs": [
    {
     "name": "stdout",
     "output_type": "stream",
     "text": [
      "[[1. 4. 8.]\n",
      " [3. 2. 9.]\n",
      " [0. 5. 7.]]\n",
      "9.0\n"
     ]
    }
   ],
   "source": [
    "print(mat)\n",
    "print(mat[1,2])"
   ]
  },
  {
   "cell_type": "code",
   "execution_count": 24,
   "metadata": {},
   "outputs": [
    {
     "name": "stdout",
     "output_type": "stream",
     "text": [
      "1.0 2.0 7.0\n"
     ]
    }
   ],
   "source": [
    "print(mat[0,0], mat[1,1], mat[2,2])"
   ]
  },
  {
   "cell_type": "markdown",
   "metadata": {},
   "source": [
    "What about array slicing?  How do we get some subset of columns and/or rows?"
   ]
  },
  {
   "cell_type": "code",
   "execution_count": 25,
   "metadata": {},
   "outputs": [
    {
     "name": "stdout",
     "output_type": "stream",
     "text": [
      "[3. 2. 9.]\n"
     ]
    }
   ],
   "source": [
    "print(mat[1,:]) # Single row, all columns"
   ]
  },
  {
   "cell_type": "code",
   "execution_count": 26,
   "metadata": {},
   "outputs": [
    {
     "name": "stdout",
     "output_type": "stream",
     "text": [
      "[4. 2. 5.]\n"
     ]
    }
   ],
   "source": [
    "print(mat[:,1]) # Single column, all rows"
   ]
  },
  {
   "cell_type": "code",
   "execution_count": 27,
   "metadata": {},
   "outputs": [
    {
     "name": "stdout",
     "output_type": "stream",
     "text": [
      "[[1. 4.]\n",
      " [3. 2.]\n",
      " [0. 5.]]\n"
     ]
    }
   ],
   "source": [
    "print(mat[:,:2]) # All rows, subset of columns"
   ]
  },
  {
   "cell_type": "markdown",
   "metadata": {},
   "source": [
    "What if we want an array of a different shape?\n",
    "Can be useful to change shape of arrays.\n",
    "This can be a convenient way of initializing matrices."
   ]
  },
  {
   "cell_type": "code",
   "execution_count": 28,
   "metadata": {},
   "outputs": [
    {
     "name": "stdout",
     "output_type": "stream",
     "text": [
      "array:\n",
      "[0 1 2 3 4 5 6 7]\n",
      "\n",
      "2 x 4:\n",
      "[[0 1 2 3]\n",
      " [4 5 6 7]]\n",
      "\n",
      "4 x 2:\n",
      "[[0 1]\n",
      " [2 3]\n",
      " [4 5]\n",
      " [6 7]]\n",
      "\n",
      "back to array:\n",
      "[0 1 2 3 4 5 6 7]\n",
      "(8,)\n"
     ]
    }
   ],
   "source": [
    "arr = np.arange(8)\n",
    "two_four = arr.reshape(2, 4)\n",
    "four_two = arr.reshape(4, 2)\n",
    "eight_none = arr.flatten()\n",
    "print('array:')\n",
    "print(arr)\n",
    "print('')\n",
    "print('2 x 4:')\n",
    "print(two_four)\n",
    "print('')\n",
    "print('4 x 2:')\n",
    "print(four_two)\n",
    "print('')\n",
    "print('back to array:')\n",
    "print(eight_none)\n",
    "print(eight_none.shape)"
   ]
  },
  {
   "cell_type": "markdown",
   "metadata": {},
   "source": [
    "# Array functions\n",
    "We'll go through some array functions here.  There are plenty more available.  Best way to find the function you want is to search on Google for what you want and find the documentation for it (there is probably a function that does what you want to do)."
   ]
  },
  {
   "cell_type": "markdown",
   "metadata": {},
   "source": [
    "Length of an array.\n",
    "For multi-dimensional this is length of first axis"
   ]
  },
  {
   "cell_type": "code",
   "execution_count": 29,
   "metadata": {},
   "outputs": [
    {
     "name": "stdout",
     "output_type": "stream",
     "text": [
      "[1. 3. 2. 8.]\n",
      "[[1. 4.]\n",
      " [3. 2.]\n",
      " [0. 5.]]\n",
      "4\n",
      "3\n"
     ]
    }
   ],
   "source": [
    "new_mat = mat[:,:2]\n",
    "print(vals_arrayf)\n",
    "print(new_mat)\n",
    "print(len(vals_arrayf))\n",
    "print(len(new_mat))"
   ]
  },
  {
   "cell_type": "markdown",
   "metadata": {},
   "source": [
    "What about shape?"
   ]
  },
  {
   "cell_type": "code",
   "execution_count": 30,
   "metadata": {},
   "outputs": [
    {
     "name": "stdout",
     "output_type": "stream",
     "text": [
      "(3, 2)\n"
     ]
    }
   ],
   "source": [
    "print(new_mat.shape) # not a function"
   ]
  },
  {
   "cell_type": "markdown",
   "metadata": {},
   "source": [
    "Note:  shape is an attribute, not a function\n",
    "(so it's not followed by parentheses)."
   ]
  },
  {
   "cell_type": "markdown",
   "metadata": {},
   "source": [
    "### Sort array"
   ]
  },
  {
   "cell_type": "markdown",
   "metadata": {},
   "source": [
    "What about sorting an array?\n",
    "Two different methods, \n",
    "[np.sort()](http://docs.scipy.org/doc/numpy-1.10.1/reference/generated/numpy.sort.html) or \n",
    "[myarray.sort()](http://docs.scipy.org/doc/numpy-1.10.0/reference/generated/numpy.ndarray.sort.html).\n",
    "One is a numpy function (called as np.sort()) and returns a copy of the array in sorted order.\n",
    "The other one is a function of the array and sorts the array in place.\n",
    "\n",
    "**Important point:**\n",
    "* Some functions operate in place, others return copies.\n",
    "* How do you know which you are using?  Look at the documentation."
   ]
  },
  {
   "cell_type": "code",
   "execution_count": 31,
   "metadata": {},
   "outputs": [
    {
     "name": "stdout",
     "output_type": "stream",
     "text": [
      "[1. 2. 3. 8.]\n",
      "[1. 3. 2. 8.]\n",
      "[1. 2. 3. 8.]\n"
     ]
    }
   ],
   "source": [
    "print(np.sort(vals_arrayf)) # returns a copy\n",
    "print(vals_arrayf)\n",
    "vals_arrayf.sort() # inplace\n",
    "print(vals_arrayf)"
   ]
  },
  {
   "cell_type": "markdown",
   "metadata": {},
   "source": [
    "### Checking if items are in an array"
   ]
  },
  {
   "cell_type": "code",
   "execution_count": 32,
   "metadata": {},
   "outputs": [
    {
     "name": "stdout",
     "output_type": "stream",
     "text": [
      "True\n",
      "False\n"
     ]
    }
   ],
   "source": [
    "print(9 in mat)\n",
    "print(9 in vals_arrayf)"
   ]
  },
  {
   "cell_type": "markdown",
   "metadata": {},
   "source": [
    "## Elementwise Array Operations\n",
    "\n",
    "Lots of elementwise operations happen automatically with arrays. These include:\n",
    "* addition\n",
    "* subtraction\n",
    "* multiplication\n",
    "* division\n",
    "* comparisons\n",
    "\n",
    "Some examples:"
   ]
  },
  {
   "cell_type": "code",
   "execution_count": 33,
   "metadata": {},
   "outputs": [
    {
     "name": "stdout",
     "output_type": "stream",
     "text": [
      "[[1. 3.]\n",
      " [2. 5.]]\n",
      "\n",
      "[[1. 0.]\n",
      " [0. 1.]]\n",
      "\n",
      "sum:\n",
      "[[2. 3.]\n",
      " [2. 6.]]\n",
      "\n",
      "difference:\n",
      "[[0. 3.]\n",
      " [2. 4.]]\n",
      "\n",
      "product:\n",
      "[[1. 0.]\n",
      " [0. 5.]]\n",
      "\n",
      "quotient:\n",
      "[[1.  0. ]\n",
      " [0.  0.2]]\n",
      "power:\n",
      "[[  1.  27.]\n",
      " [  8. 125.]]\n",
      "\n",
      "[[ True False]\n",
      " [False False]]\n",
      " \n",
      "[[False  True]\n",
      " [ True  True]]\n"
     ]
    }
   ],
   "source": [
    "mat_2 = np.array([[1,3],[2,5]], float)\n",
    "id_2 = np.identity(2, float)\n",
    "\n",
    "print(mat_2)\n",
    "print('')\n",
    "print(id_2)\n",
    "print('')\n",
    "print('sum:')\n",
    "print(mat_2 + id_2)\n",
    "print('')\n",
    "print('difference:')\n",
    "print(mat_2 - id_2)\n",
    "print('')\n",
    "print('product:')\n",
    "print(mat_2 * id_2)  # not matrix multiplication\n",
    "print('')\n",
    "print('quotient:')\n",
    "print(id_2 / mat_2)\n",
    "print('power:')\n",
    "print(mat_2**3)  # not matrix exponentiation\n",
    "print('')\n",
    "print(mat_2 == id_2)\n",
    "print(' ')\n",
    "print(mat_2 > id_2)"
   ]
  },
  {
   "cell_type": "markdown",
   "metadata": {},
   "source": [
    "### Other Elementwise Array Functions\n",
    "\n",
    "Many other element-wise functions to perform mathematical operations, round results, etc. also have numpy equivalents."
   ]
  },
  {
   "cell_type": "code",
   "execution_count": 34,
   "metadata": {},
   "outputs": [
    {
     "name": "stdout",
     "output_type": "stream",
     "text": [
      "[[2.71828183 1.        ]\n",
      " [1.         2.71828183]]\n",
      "[0.        1.        1.5849625 3.       ]\n",
      "[[1.         0.33333333]\n",
      " [0.5        0.2       ]]\n"
     ]
    }
   ],
   "source": [
    "# Misc Math Operations\n",
    "print(np.exp(id_2))\n",
    "print(np.log2(vals_arrayf))\n",
    "print(np.reciprocal(mat_2))"
   ]
  },
  {
   "cell_type": "code",
   "execution_count": 35,
   "metadata": {},
   "outputs": [
    {
     "name": "stdout",
     "output_type": "stream",
     "text": [
      "[[ 0.84147098  0.14112001]\n",
      " [ 0.90929743 -0.95892427]]\n",
      "[[1.55740772 0.        ]\n",
      " [0.         1.55740772]]\n"
     ]
    }
   ],
   "source": [
    "# Trig Functions\n",
    "print(np.sin(mat_2))\n",
    "print(np.tan(id_2))"
   ]
  },
  {
   "cell_type": "code",
   "execution_count": 36,
   "metadata": {},
   "outputs": [
    {
     "name": "stdout",
     "output_type": "stream",
     "text": [
      "[[ 0.84  0.14]\n",
      " [ 0.91 -0.96]]\n"
     ]
    }
   ],
   "source": [
    "# Rounding\n",
    "print(np.round(np.sin(mat_2), 2))"
   ]
  },
  {
   "cell_type": "markdown",
   "metadata": {},
   "source": [
    "## Matrix and Vector Operations\n",
    "If `*` is elementwise multiplication, how do we do other useful operations like matrix-vector product or inner product?"
   ]
  },
  {
   "cell_type": "code",
   "execution_count": 37,
   "metadata": {},
   "outputs": [
    {
     "name": "stdout",
     "output_type": "stream",
     "text": [
      "[[1. 3.]\n",
      " [2. 5.]]\n",
      "\n",
      "[[1. 3.]\n",
      " [2. 5.]]\n",
      "\n",
      "30.0\n"
     ]
    }
   ],
   "source": [
    "# Matrix Multiplication and Dot Product\n",
    "print(np.dot(mat_2, id_2))\n",
    "print('')\n",
    "print(mat_2 @ id_2)\n",
    "print('')\n",
    "print(np.dot(vals_arrayf, np.array([0,2,6,1])))"
   ]
  },
  {
   "cell_type": "markdown",
   "metadata": {},
   "source": [
    "Along those same lines, built-in functions exist to transpose matrices."
   ]
  },
  {
   "cell_type": "code",
   "execution_count": 38,
   "metadata": {},
   "outputs": [
    {
     "name": "stdout",
     "output_type": "stream",
     "text": [
      "[[1. 2.]\n",
      " [3. 5.]]\n",
      "[[1. 2.]\n",
      " [3. 5.]]\n"
     ]
    }
   ],
   "source": [
    "# Matrix transpose\n",
    "print(np.transpose(mat_2))\n",
    "print(mat_2.T)"
   ]
  },
  {
   "cell_type": "markdown",
   "metadata": {},
   "source": [
    "# Broadcasting (Element-wise operations on arrays of different shapes)"
   ]
  },
  {
   "cell_type": "markdown",
   "metadata": {},
   "source": [
    "Note: `numpy` tries to make simple broadcasting fairly intuitive.\n",
    "However, if you are having trouble understanding what is going on, [reading scipy's short article](https://docs.scipy.org/doc/numpy/user/basics.broadcasting.html)\n",
    "can be helpful.\n",
    "\n",
    "The simplest case is adding an array and a scalar.\n",
    "What we want here should be fairly intuitive, and that is what `numpy` does."
   ]
  },
  {
   "cell_type": "code",
   "execution_count": 39,
   "metadata": {},
   "outputs": [
    {
     "name": "stdout",
     "output_type": "stream",
     "text": [
      "[[ 0  1  2]\n",
      " [ 3  4  5]\n",
      " [ 6  7  8]\n",
      " [ 9 10 11]]\n",
      "\n",
      "[[ 3  4  5]\n",
      " [ 6  7  8]\n",
      " [ 9 10 11]\n",
      " [12 13 14]]\n"
     ]
    }
   ],
   "source": [
    "bmat = np.arange(12).reshape(4, 3)\n",
    "print(bmat)\n",
    "print('')\n",
    "print(3 + bmat)"
   ]
  },
  {
   "cell_type": "markdown",
   "metadata": {},
   "source": [
    "What about an array and a vector? What do we even mean by that?"
   ]
  },
  {
   "cell_type": "code",
   "execution_count": 40,
   "metadata": {},
   "outputs": [
    {
     "name": "stdout",
     "output_type": "stream",
     "text": [
      "[0 1 2]\n",
      "\n",
      "[[ 0  2  4]\n",
      " [ 3  5  7]\n",
      " [ 6  8 10]\n",
      " [ 9 11 13]]\n"
     ]
    }
   ],
   "source": [
    "vec3 = np.arange(3)\n",
    "print(vec3)\n",
    "print('')\n",
    "print(bmat + vec3)"
   ]
  },
  {
   "cell_type": "markdown",
   "metadata": {},
   "source": [
    "What if we want to add (or subtract, multiply, etc.) by row? We will need a vector of four elements for this to make sense."
   ]
  },
  {
   "cell_type": "code",
   "execution_count": 41,
   "metadata": {},
   "outputs": [
    {
     "ename": "ValueError",
     "evalue": "operands could not be broadcast together with shapes (4,3) (4,) ",
     "output_type": "error",
     "traceback": [
      "\u001b[0;31m---------------------------------------------------------------------------\u001b[0m",
      "\u001b[0;31mValueError\u001b[0m                                Traceback (most recent call last)",
      "\u001b[0;32m<ipython-input-41-76dc9a80492e>\u001b[0m in \u001b[0;36m<module>\u001b[0;34m\u001b[0m\n\u001b[1;32m      1\u001b[0m \u001b[0mvec4\u001b[0m \u001b[0;34m=\u001b[0m \u001b[0mnp\u001b[0m\u001b[0;34m.\u001b[0m\u001b[0marange\u001b[0m\u001b[0;34m(\u001b[0m\u001b[0;36m4\u001b[0m\u001b[0;34m)\u001b[0m\u001b[0;34m\u001b[0m\u001b[0;34m\u001b[0m\u001b[0m\n\u001b[0;32m----> 2\u001b[0;31m \u001b[0mprint\u001b[0m\u001b[0;34m(\u001b[0m\u001b[0mbmat\u001b[0m \u001b[0;34m+\u001b[0m \u001b[0mvec4\u001b[0m\u001b[0;34m)\u001b[0m\u001b[0;34m\u001b[0m\u001b[0;34m\u001b[0m\u001b[0m\n\u001b[0m",
      "\u001b[0;31mValueError\u001b[0m: operands could not be broadcast together with shapes (4,3) (4,) "
     ]
    }
   ],
   "source": [
    "vec4 = np.arange(4)\n",
    "print(bmat + vec4)"
   ]
  },
  {
   "cell_type": "markdown",
   "metadata": {},
   "source": [
    "It turns out that `numpy` is comparing the 4 with the 3 and doesn't like it.\n",
    "For a detailed explanation of why, you can read the scipy artice above.\n",
    "\n",
    "The gist is more or less that `numpy` prepends 1s to the size of your vector when broadcasting,\n",
    "and each dimension of the two arrays either needs to be the same number or have one of the\n",
    "numbers be a 1 for the operation to be valid.\n",
    "\n",
    "In our case, one operand is (4, 3), and the other becomes (1, 4), so the 3 and the 4\n",
    "in the last spot produce a `ValueError`.\n",
    "\n",
    "So, how can we get around this?"
   ]
  },
  {
   "cell_type": "code",
   "execution_count": 42,
   "metadata": {},
   "outputs": [
    {
     "name": "stdout",
     "output_type": "stream",
     "text": [
      "[[ 0  1  2]\n",
      " [ 4  5  6]\n",
      " [ 8  9 10]\n",
      " [12 13 14]]\n"
     ]
    }
   ],
   "source": [
    "print(bmat + vec4[:, np.newaxis])"
   ]
  },
  {
   "cell_type": "markdown",
   "metadata": {},
   "source": [
    "The `np.newaxis` in the second dimension forces `numpy` to put the 1 in that spot,\n",
    "giving us a shape of (4, 1).  The (4, 1) shape lines up with the (4, 3) shape of\n",
    "our matrix, so we are good to go.\n",
    "\n",
    "Note that `np.newaxis` is not a command and does not have parentheses at the end."
   ]
  },
  {
   "cell_type": "markdown",
   "metadata": {},
   "source": [
    "# Reduction Operations\n",
    "There are other operations beyond the common matrix/vector operations that do not return an array of the same shape as the input.\n",
    "For example, you can find out the minimum or maximum value in the entire array,\n",
    "or the sum of all entries."
   ]
  },
  {
   "cell_type": "code",
   "execution_count": 43,
   "metadata": {},
   "outputs": [
    {
     "name": "stdout",
     "output_type": "stream",
     "text": [
      "[[ 0  1  2]\n",
      " [ 3  4  5]\n",
      " [ 6  7  8]\n",
      " [ 9 10 11]]\n",
      "0\n",
      "11\n",
      "66\n"
     ]
    }
   ],
   "source": [
    "print(bmat)\n",
    "print(bmat.min())\n",
    "print(bmat.max())\n",
    "print(bmat.sum())"
   ]
  },
  {
   "cell_type": "markdown",
   "metadata": {},
   "source": [
    "What if I want the smallest number in every row?\n",
    "All of these reduction operations take an optional `axis` argument that allows\n",
    "us to target a particular dimension of the array."
   ]
  },
  {
   "cell_type": "code",
   "execution_count": 44,
   "metadata": {},
   "outputs": [
    {
     "name": "stdout",
     "output_type": "stream",
     "text": [
      "row minimum:\n",
      "[0 3 6 9]\n",
      "column minimum:\n",
      "[0 1 2]\n"
     ]
    }
   ],
   "source": [
    "print('row minimum:')\n",
    "print(bmat.min(axis=1))\n",
    "print('column minimum:')\n",
    "print(bmat.min(axis=0))"
   ]
  },
  {
   "cell_type": "markdown",
   "metadata": {},
   "source": [
    "Notice that when we pass an `axis` argument, we lose that dimension of our\n",
    "array, but the shape is otherwise unchanged. So, a (4, 3) array becomes\n",
    "a (3,) array if we pass `axis=0`, and it becomes a (4,) array if we\n",
    "pass `axis=1`."
   ]
  },
  {
   "cell_type": "markdown",
   "metadata": {},
   "source": [
    "# Random Numbers"
   ]
  },
  {
   "cell_type": "markdown",
   "metadata": {},
   "source": [
    "It can often be necessary to generate random numbers.\n",
    "`numpy` can generate numbers from a variety of distributions,\n",
    "and it can generate lots of them at once and put them in a convenient shape.\n",
    "\n",
    "The [np.random](https://docs.scipy.org/doc/numpy-1.13.0/reference/routines.random.html) documentation gives a helpful overview.\n",
    "\n",
    "Common functions used are:\n",
    "* [np.random.rand](https://docs.scipy.org/doc/numpy-1.13.0/reference/generated/numpy.random.rand.html#numpy.random.rand) (uniform),\n",
    "* [np.random.randn](https://docs.scipy.org/doc/numpy-1.13.0/reference/generated/numpy.random.randn.html#numpy.random.randn) (normal),\n",
    "* [np.random.randint](https://docs.scipy.org/doc/numpy-1.13.0/reference/generated/numpy.random.randint.html#numpy.random.randint) (integers).\n",
    "\n",
    "All of these routines give you the option of generating an array of a specified shape.\n",
    "\n",
    "Examples:"
   ]
  },
  {
   "cell_type": "code",
   "execution_count": 45,
   "metadata": {},
   "outputs": [
    {
     "name": "stdout",
     "output_type": "stream",
     "text": [
      "[0.6547803  0.67290584 0.32344985 0.32566901 0.98575444 0.79288886\n",
      " 0.84329287 0.02835835 0.20946802 0.09798485]\n",
      "\n",
      "[[ 0.3101997   1.28268904 -0.27361291 -0.13634871 -0.25373209]\n",
      " [ 0.60767192  0.59099515  0.60850301 -0.12297693  0.68525586]\n",
      " [-0.87977991  1.24707837  1.1964423   0.43796593 -0.47681014]]\n",
      "\n",
      "[[6 3]\n",
      " [9 0]\n",
      " [3 9]\n",
      " [9 3]]\n",
      "\n"
     ]
    }
   ],
   "source": [
    "uniform_nums = np.random.rand(10)\n",
    "print(uniform_nums)\n",
    "print('')\n",
    "normal_nums = np.random.randn(3, 5)\n",
    "print(normal_nums)\n",
    "print('')\n",
    "integers = np.random.randint(0, 10, (4, 2))\n",
    "print(integers)\n",
    "print('')"
   ]
  }
 ],
 "metadata": {
  "kernelspec": {
   "display_name": "Python 3",
   "language": "python",
   "name": "python3"
  },
  "language_info": {
   "codemirror_mode": {
    "name": "ipython",
    "version": 3
   },
   "file_extension": ".py",
   "mimetype": "text/x-python",
   "name": "python",
   "nbconvert_exporter": "python",
   "pygments_lexer": "ipython3",
   "version": "3.7.2"
  }
 },
 "nbformat": 4,
 "nbformat_minor": 2
}
